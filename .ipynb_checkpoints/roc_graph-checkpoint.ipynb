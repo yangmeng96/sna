{
 "cells": [
  {
   "cell_type": "code",
   "execution_count": null,
   "metadata": {},
   "outputs": [],
   "source": [
    "from roc import ROC\n",
    "from pr import PR\n",
    "import pandas as pd\n",
    "import os"
   ]
  },
  {
   "cell_type": "code",
   "execution_count": null,
   "metadata": {},
   "outputs": [],
   "source": [
    "curves_files = [f for f in os.listdir('data/curves/') if len(f)==13]\n",
    "method = [\"MAX\",\"SUM\",\"PCA\",\"AE\",\"SNA\"]\n",
    "\n",
    "for curves_file in curves_files:\n",
    "    clf = curves_file[:2]\n",
    "    seed = curves_file[-5:-4]\n",
    "    Y_scores = pd.read_csv(f'data/curves/{clf}_scores_{seed}.csv')\n",
    "    Y_true = pd.read_csv(f'data/curves/{clf}_true_{seed}.csv')\n",
    "    Y_scores = Y_scores.values.tolist()\n",
    "    Y_true = Y_true.values.tolist()\n",
    "    # for presentation\n",
    "    for num_method in range(1, 6):\n",
    "        ROC(Y_true, Y_scores, method[:num_method], clf, seed)\n",
    "        PR(Y_true, Y_scores, method[:num_method], clf, seed)"
   ]
  },
  {
   "cell_type": "code",
   "execution_count": null,
   "metadata": {},
   "outputs": [],
   "source": []
  }
 ],
 "metadata": {
  "kernelspec": {
   "display_name": "Python 3 (ipykernel)",
   "language": "python",
   "name": "python3"
  },
  "language_info": {
   "codemirror_mode": {
    "name": "ipython",
    "version": 3
   },
   "file_extension": ".py",
   "mimetype": "text/x-python",
   "name": "python",
   "nbconvert_exporter": "python",
   "pygments_lexer": "ipython3",
   "version": "3.8.16"
  }
 },
 "nbformat": 4,
 "nbformat_minor": 4
}
