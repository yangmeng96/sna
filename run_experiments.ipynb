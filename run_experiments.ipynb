{
 "cells": [
  {
   "cell_type": "code",
   "execution_count": null,
   "id": "fd245785",
   "metadata": {
    "scrolled": false
   },
   "outputs": [],
   "source": [
    "import pandas as pd\n",
    "from sklearn.model_selection import train_test_split\n",
    "\n",
    "from preprocessing import preprocessing\n",
    "from pca import pca_load\n",
    "from pca_all import pca_load_all\n",
    "from baseline import baseline\n",
    "\n",
    "# short code or full code\n",
    "filename = \"main_dataset_final_3\"\n",
    "# filename = \"main_dataset_final_3_full_icd10\"\n",
    "# preprocessing(filename)\n",
    "\n",
    "# binary or continuous\n",
    "datatype = \"binary\"\n",
    "# datatype = \"cont\"\n",
    "X = pd.read_csv(\"data/stroke_data_\" + datatype + \".csv\")\n",
    "X.dropna(inplace=True)\n",
    "X_train, X_test = train_test_split(X, test_size=0.2, random_state=42)\n",
    "\n",
    "disease_mapping = {\n",
    "    #\"BMI\": ['Z68','E65','E66','E67','E68'], \n",
    "    \"BMI\": ['E65','E66'], \n",
    "    \"blood_lipids\": ['E78'],\n",
    "    \"blood_glucose\": ['E10','E11'],\n",
    "#     \"hypertensive\": ['I10','I11','I12','I13','I14','I15','I16'],\n",
    "    \"hypertensive\": ['I10','I11','I12','I13','I15','I16'],\n",
    "    \"nicotine\":['F17','Z72'],\n",
    "    \"alcohol\":['F10']\n",
    "}\n",
    "\n",
    "# pca vs. baseline\n",
    "X_train, X_test = pca_load(datatype, disease_mapping, X_train, X_test)\n",
    "# X_train, X_test = pca_load_all(datatype, X_train, X_test)\n",
    "# X_train, X_test = baseline(datatype, disease_mapping, X_train, X_test)\n",
    "\n",
    "print(X_train.shape, X_test.shape)"
   ]
  },
  {
   "cell_type": "code",
   "execution_count": null,
   "id": "bee8b35b",
   "metadata": {},
   "outputs": [],
   "source": []
  }
 ],
 "metadata": {
  "kernelspec": {
   "display_name": "Python 3 (ipykernel)",
   "language": "python",
   "name": "python3"
  },
  "language_info": {
   "codemirror_mode": {
    "name": "ipython",
    "version": 3
   },
   "file_extension": ".py",
   "mimetype": "text/x-python",
   "name": "python",
   "nbconvert_exporter": "python",
   "pygments_lexer": "ipython3",
   "version": "3.8.16"
  }
 },
 "nbformat": 4,
 "nbformat_minor": 5
}
