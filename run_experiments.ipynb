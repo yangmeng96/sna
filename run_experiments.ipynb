{
 "cells": [
  {
   "cell_type": "code",
   "execution_count": null,
   "id": "e8b24571",
   "metadata": {},
   "outputs": [],
   "source": [
    "# !python preprocessing.py"
   ]
  },
  {
   "cell_type": "code",
   "execution_count": 1,
   "id": "fd245785",
   "metadata": {
    "scrolled": false
   },
   "outputs": [
    {
     "name": "stdout",
     "output_type": "stream",
     "text": [
      "(10544, 12) (2637, 12)\n"
     ]
    }
   ],
   "source": [
    "import pandas as pd\n",
    "from sklearn.model_selection import train_test_split\n",
    "from pca import pca_load as pca_load_by_disease\n",
    "# from pca_all import pca_load as pca_load_all\n",
    "from baseline import baseline\n",
    "\n",
    "datatype = \"binary\"\n",
    "X = pd.read_csv(\"data/stroke_data_\" + datatype + \".csv\")\n",
    "X.dropna(inplace=True)\n",
    "X_train, X_test = train_test_split(X, test_size=0.2, random_state=42)\n",
    "\n",
    "disease_mapping = {\n",
    "    \"a\": ['I48','R53','A41','B02','B37'], \n",
    "    \"b\": ['B96','D64','E11','E16'],\n",
    "    \"c\": ['I10','I20','I21','I24','I25','I34','I35'],\n",
    "    \"d\": ['J21','J44','J45']\n",
    "}\n",
    "\n",
    "# X_train, X_test = pca_load_by_disease(datatype, disease_mapping, X_train, X_test)\n",
    "# X_train, X_test = pca_load_all(datatype, X_train, X_test)\n",
    "X_train, X_test = baseline(datatype, disease_mapping, X_train, X_test)\n",
    "\n",
    "print(X_train.shape, X_test.shape)"
   ]
  },
  {
   "cell_type": "code",
   "execution_count": null,
   "id": "bb5c985b",
   "metadata": {},
   "outputs": [],
   "source": []
  }
 ],
 "metadata": {
  "kernelspec": {
   "display_name": "Python 3 (ipykernel)",
   "language": "python",
   "name": "python3"
  },
  "language_info": {
   "codemirror_mode": {
    "name": "ipython",
    "version": 3
   },
   "file_extension": ".py",
   "mimetype": "text/x-python",
   "name": "python",
   "nbconvert_exporter": "python",
   "pygments_lexer": "ipython3",
   "version": "3.8.16"
  }
 },
 "nbformat": 4,
 "nbformat_minor": 5
}
